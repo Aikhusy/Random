{
 "cells": [
  {
   "cell_type": "code",
   "execution_count": 2,
   "metadata": {},
   "outputs": [],
   "source": [
    "import pandas as pd\n",
    "import numpy as np"
   ]
  },
  {
   "cell_type": "code",
   "execution_count": 3,
   "metadata": {},
   "outputs": [],
   "source": [
    "Train= pd.read_csv('train.csv')"
   ]
  },
  {
   "cell_type": "code",
   "execution_count": 12,
   "metadata": {},
   "outputs": [],
   "source": [
    "def uniqueStuff (dataframe):\n",
    "    df = pd.DataFrame(dataframe)\n",
    "    for kolom in dataframe:\n",
    "        print (kolom)\n",
    "        print(Train[kolom].unique())"
   ]
  },
  {
   "cell_type": "code",
   "execution_count": 13,
   "metadata": {},
   "outputs": [
    {
     "name": "stdout",
     "output_type": "stream",
     "text": [
      "Id\n",
      "[     1      2      3 ... 137139 137140 137141]\n",
      "Make\n",
      "['FOLD' 'CHEVO' 'BMV' 'KIO' 'BARUSU' 'LECUS' 'GONDA' 'LAND CRAWLER'\n",
      " 'FOLKSWA' 'TOYOTI' 'JIPU' 'TOLVO' 'ASURA' 'NIRRAN' 'FIAR' 'DOGE'\n",
      " 'CADILUXE' 'MATSUDA' 'MITSU' 'RYUNDAI' 'LAMBOGI']\n",
      "Vehicle Class\n",
      "['PICKUP TRUCK - STANDARD' 'SUBCOMPACT' 'SUV - SMALL' 'MINICOMPACT'\n",
      " 'COMPACT' 'FULL-SIZE' 'SUV - STANDARD' 'MINIVAN' 'STATION WAGON - SMALL'\n",
      " nan 'PICKUP TRUCK - SMALL' 'missing' 'TWO-SEATER'\n",
      " 'STATION WAGON - MID-SIZE' 'MID-SIZE' 'SPECIAL PURPOSE VEHICLE'\n",
      " 'VAN - PASSENGER' '-1' 'not-recorded' 'na' 'unspecified' 'unknown'\n",
      " 'unestablished' 'VAN - CARGO' 'not-available']\n",
      "Engine Size(L)\n",
      "['3.5' '5.3' '4.4' nan '3.0' 'unspecified' '1.8' '2.0' '3.6' '2.5'\n",
      " 'missing' '2.4' '2.3' '1.4' '1.6' '5.0' 'na' '1.3' '6.2' '4.8' '2.7'\n",
      " '6.0' '3.2' '6.5' '5.7' '3.7' '1.2' '4.0' '3.3' '1.5' 'not-available'\n",
      " '5.2' 'not-recorded' '3.8' '2.8' '-1' 'unknown' 'unestablished' '4.6'\n",
      " '6.4' '4.3' '6.6' '5.4' '1.0' '5.6' '5.8' '8.4' '3.4' '4.2' '6.8' '2.2']\n",
      "Cylinders\n",
      "['6.0' nan '4.0' '8.0' 'not-available' 'unestablished' '12.0'\n",
      " 'unspecified' 'not-recorded' '3.0' '-1' 'missing' '5.0' 'unknown' '10.0'\n",
      " 'na']\n",
      "Transmission\n",
      "['A6' 'M6' 'AS6' 'unspecified' 'not-recorded' 'AV7' 'AS8' 'A9' 'unknown'\n",
      " nan 'AV' 'AV8' 'M5' 'A8' 'AV6' 'AS10' 'AM7' 'missing' 'A4' 'A5' 'AS7'\n",
      " 'AM6' 'AS5' 'not-available' 'na' 'AS9' '-1' 'AM9' 'AV10' 'unestablished'\n",
      " 'AM8' 'M7' 'A10' 'A7']\n",
      "Fuel Type\n",
      "['X' 'E' 'Z' nan 'D' '-1' 'missing' 'unspecified' 'not-recorded' 'unknown'\n",
      " 'unestablished' 'na' 'not-available' 'N']\n",
      "Fuel Consumption City\n",
      "['8.64 liters per 100 km' '27.27 liters per 100 km' '0.17 L/10km' ...\n",
      " '38.92 MPG (AS)' '43.52 L/100km' '33.71 L/100 km']\n",
      "Fuel Consumption Hwy\n",
      "['6.14 L/100 km' '30.76 liters per 100 km' '2.03 liters per 100 km' ...\n",
      " '92.57 mpg Imp.' '49.65 MPG (AS)' '1275.84 mpg Imp.']\n",
      "Fuel Consumption Comb\n",
      "['37.59 mpg Imp.' '28.84 L/100 km' 'zero' ... '48.71 mpg Imp.'\n",
      " '59.38 MPG (AS)' '32.27 km per L']\n",
      "CO2 Emissions(g/km)\n",
      "[306.         283.         329.         ... 463.29212734 294.86996342\n",
      " 295.35139834]\n"
     ]
    }
   ],
   "source": [
    "uniqueStuff(Train)"
   ]
  },
  {
   "cell_type": "code",
   "execution_count": 5,
   "metadata": {},
   "outputs": [
    {
     "data": {
      "text/plain": [
       "Index(['Id', 'Make', 'Vehicle Class', 'Engine Size(L)', 'Cylinders',\n",
       "       'Transmission', 'Fuel Type', 'Fuel Consumption City',\n",
       "       'Fuel Consumption Hwy', 'Fuel Consumption Comb', 'CO2 Emissions(g/km)'],\n",
       "      dtype='object')"
      ]
     },
     "execution_count": 5,
     "metadata": {},
     "output_type": "execute_result"
    }
   ],
   "source": [
    "Train.keys()"
   ]
  },
  {
   "cell_type": "code",
   "execution_count": 9,
   "metadata": {},
   "outputs": [],
   "source": [
    "ukuran_unik = Train['Engine Size(L)'].unique()\n"
   ]
  },
  {
   "cell_type": "code",
   "execution_count": 10,
   "metadata": {},
   "outputs": [
    {
     "name": "stdout",
     "output_type": "stream",
     "text": [
      "['3.5' '5.3' '4.4' nan '3.0' 'unspecified' '1.8' '2.0' '3.6' '2.5'\n",
      " 'missing' '2.4' '2.3' '1.4' '1.6' '5.0' 'na' '1.3' '6.2' '4.8' '2.7'\n",
      " '6.0' '3.2' '6.5' '5.7' '3.7' '1.2' '4.0' '3.3' '1.5' 'not-available'\n",
      " '5.2' 'not-recorded' '3.8' '2.8' '-1' 'unknown' 'unestablished' '4.6'\n",
      " '6.4' '4.3' '6.6' '5.4' '1.0' '5.6' '5.8' '8.4' '3.4' '4.2' '6.8' '2.2']\n"
     ]
    }
   ],
   "source": [
    "print (ukuran_unik)"
   ]
  },
  {
   "cell_type": "code",
   "execution_count": 7,
   "metadata": {},
   "outputs": [
    {
     "name": "stdout",
     "output_type": "stream",
     "text": [
      "            Id     Make             Vehicle Class Engine Size(L) Cylinders  \\\n",
      "1            2    CHEVO   PICKUP TRUCK - STANDARD            5.3       NaN   \n",
      "2            3      BMV                SUBCOMPACT            4.4       NaN   \n",
      "3            4      KIO               SUV - SMALL            NaN       4.0   \n",
      "8            9    CHEVO            SUV - STANDARD            3.6       NaN   \n",
      "14          15    TOLVO                   COMPACT            3.0       6.0   \n",
      "...        ...      ...                       ...            ...       ...   \n",
      "137116  137117     FOLD              not-recorded            3.5       NaN   \n",
      "137120  137121   TOYOTI  STATION WAGON - MID-SIZE            NaN       4.0   \n",
      "137124  137125  RYUNDAI               SUV - SMALL            3.6       NaN   \n",
      "137126  137127    GONDA                   COMPACT            NaN       4.0   \n",
      "137127  137128      BMV               SUV - SMALL            2.0       NaN   \n",
      "\n",
      "       Transmission Fuel Type    Fuel Consumption City  \\\n",
      "1                A6         E  27.27 liters per 100 km   \n",
      "2                M6         Z              0.17 L/10km   \n",
      "3               AS6         X            6.52 km per L   \n",
      "8                A9         X            9.16 mpg Imp.   \n",
      "14              AS6       NaN  23.39 liters per 100 km   \n",
      "...             ...       ...                      ...   \n",
      "137116          AS6         X            8.36 mpg Imp.   \n",
      "137120           AV         X            9.91 mpg Imp.   \n",
      "137124  unspecified         X                     9999   \n",
      "137126          AV7         X   6.54 liters per 100 km   \n",
      "137127          NaN   unknown           35.27 MPG (AS)   \n",
      "\n",
      "           Fuel Consumption Hwy   Fuel Consumption Comb  CO2 Emissions(g/km)  \n",
      "1       30.76 liters per 100 km          28.84 L/100 km           283.000000  \n",
      "2        2.03 liters per 100 km                    zero           329.000000  \n",
      "3                   1.59 L/10km                     NaN           270.000000  \n",
      "8                   2.08 L/10km           26.31 L/100km           278.000000  \n",
      "14               17.53 mpg Imp.               4.97 km/L           248.000000  \n",
      "...                         ...                     ...                  ...  \n",
      "137116           61.79 mpg Imp.          13.69 mpg Imp.           340.000000  \n",
      "137120               13.79 km/L           5.28 km per L           107.000000  \n",
      "137124            17.61 L/100km           5.10 km per L           277.000000  \n",
      "137126             3.10 L/100km  4.99 liters per 100 km           164.000000  \n",
      "137127           49.65 MPG (AS)          48.71 mpg Imp.           294.869963  \n",
      "\n",
      "[39537 rows x 11 columns]\n"
     ]
    }
   ],
   "source": [
    "print(null_data)"
   ]
  },
  {
   "cell_type": "code",
   "execution_count": 2,
   "metadata": {},
   "outputs": [
    {
     "name": "stderr",
     "output_type": "stream",
     "text": [
      "C:\\Users\\HAPE\\AppData\\Local\\Temp/ipykernel_5208/1615337695.py:2: FutureWarning: Dropping of nuisance columns in DataFrame reductions (with 'numeric_only=None') is deprecated; in a future version this will raise TypeError.  Select only valid columns before calling the reduction.\n",
      "  mean_value = file.mean()\n",
      "C:\\Users\\HAPE\\AppData\\Local\\Temp/ipykernel_5208/1615337695.py:3: FutureWarning: Dropping of nuisance columns in DataFrame reductions (with 'numeric_only=None') is deprecated; in a future version this will raise TypeError.  Select only valid columns before calling the reduction.\n",
      "  median_value = file.median()\n",
      "C:\\Users\\HAPE\\AppData\\Local\\Temp/ipykernel_5208/1615337695.py:6: FutureWarning: Dropping of nuisance columns in DataFrame reductions (with 'numeric_only=None') is deprecated; in a future version this will raise TypeError.  Select only valid columns before calling the reduction.\n",
      "  std_deviation = file.std()\n"
     ]
    }
   ],
   "source": [
    "file= pd.read_csv('train.csv')\n",
    "mean_value = file.mean()\n",
    "median_value = file.median()\n",
    "mode_value = file.mode().iloc[0]  # mode() mengembalikan Series, ambil elemen pertama\n",
    "quartile_values = file.quantile([0.25, 0.5, 0.75])\n",
    "std_deviation = file.std()"
   ]
  },
  {
   "cell_type": "code",
   "execution_count": 5,
   "metadata": {},
   "outputs": [
    {
     "name": "stdout",
     "output_type": "stream",
     "text": [
      "          Id     Make            Vehicle Class Engine Size(L)     Cylinders  \\\n",
      "0          1     FOLD  PICKUP TRUCK - STANDARD            3.5             6   \n",
      "1          2    CHEVO  PICKUP TRUCK - STANDARD            5.3           NaN   \n",
      "2          3      BMV               SUBCOMPACT            4.4           NaN   \n",
      "3          4      KIO              SUV - SMALL            NaN             4   \n",
      "4          5   BARUSU              MINICOMPACT              3             6   \n",
      "...      ...      ...                      ...            ...           ...   \n",
      "14300  14301  RYUNDAI           SUV - STANDARD            3.8  not-recorded   \n",
      "14301  14302   NIRRAN               TWO-SEATER            3.7             6   \n",
      "14302  14303     FOLD          VAN - PASSENGER            3.5           NaN   \n",
      "14303  14304    CHEVO              VAN - CARGO            5.3             8   \n",
      "14304  14305      BMV                FULL-SIZE              2             4   \n",
      "\n",
      "      Transmission Fuel Type    Fuel Consumption City  \\\n",
      "0               A6         X   8.64 liters per 100 km   \n",
      "1               A6         E  27.27 liters per 100 km   \n",
      "2               M6         Z              0.17 L/10km   \n",
      "3              AS6         X            6.52 km per L   \n",
      "4      unspecified         Z            20.15 L/100km   \n",
      "...            ...       ...                      ...   \n",
      "14300          AS8         X  15.59 liters per 100 km   \n",
      "14301           M6         Z            14.49 L/100km   \n",
      "14302         AS10         X              0.26 L/10km   \n",
      "14303           A4         X           11.40 mpg Imp.   \n",
      "14304          AS8         Z           16.02 MPG (AS)   \n",
      "\n",
      "          Fuel Consumption Hwy Fuel Consumption Comb  CO2 Emissions(g/km)  \n",
      "0                6.14 L/100 km        37.59 mpg Imp.                306.0  \n",
      "1      30.76 liters per 100 km        28.84 L/100 km                283.0  \n",
      "2       2.03 liters per 100 km                  zero                329.0  \n",
      "3                  1.59 L/10km                   NaN                270.0  \n",
      "4                  0.60 L/10km           1.38 L/10km                193.0  \n",
      "...                        ...                   ...                  ...  \n",
      "14300            17.23 L/100km        14.41 MPG (AS)                266.0  \n",
      "14301           13.67 mpg Imp.        16.35 mpg Imp.                273.0  \n",
      "14302            12.97 L/100km        38.97 mpg Imp.                341.0  \n",
      "14303              0.88 L/10km           1.76 L/10km                343.0  \n",
      "14304           15.04 MPG (AS)        15.56 MPG (AS)                296.0  \n",
      "\n",
      "[14305 rows x 11 columns]\n"
     ]
    }
   ],
   "source": [
    "print(file)"
   ]
  }
 ],
 "metadata": {
  "kernelspec": {
   "display_name": "Python 3",
   "language": "python",
   "name": "python3"
  },
  "language_info": {
   "codemirror_mode": {
    "name": "ipython",
    "version": 3
   },
   "file_extension": ".py",
   "mimetype": "text/x-python",
   "name": "python",
   "nbconvert_exporter": "python",
   "pygments_lexer": "ipython3",
   "version": "3.10.0"
  }
 },
 "nbformat": 4,
 "nbformat_minor": 2
}
