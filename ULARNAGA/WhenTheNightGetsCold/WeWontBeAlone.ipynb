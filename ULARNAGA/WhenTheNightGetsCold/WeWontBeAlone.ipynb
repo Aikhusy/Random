{
 "cells": [
  {
   "cell_type": "markdown",
   "metadata": {},
   "source": [
    "Library"
   ]
  },
  {
   "cell_type": "code",
   "execution_count": null,
   "metadata": {},
   "outputs": [],
   "source": [
    "import pytesseract\n",
    "from PIL import Image\n",
    "import matplotlib.pyplot as plt\n",
    "import cv2\n",
    "import os\n",
    "from tensorflow.keras.layers import Input, Conv2D, MaxPooling2D, UpSampling2D\n",
    "from tensorflow.keras.models import Model"
   ]
  },
  {
   "cell_type": "code",
   "execution_count": null,
   "metadata": {},
   "outputs": [],
   "source": [
    "def pathProcessing (path):\n",
    "    image_extensions = ['*.jpg', '*.jpeg', '*.png', '*.gif']  # Add more extensions if needed\n",
    "    image_paths = []\n",
    "\n",
    "    for ext in image_extensions:\n",
    "        image_paths.extend(glob.glob(os.path.join(path, ext)))\n",
    "\n",
    "    return image_paths"
   ]
  },
  {
   "cell_type": "code",
   "execution_count": null,
   "metadata": {},
   "outputs": [],
   "source": [
    "def readImage (paths):\n",
    "    images=[]\n",
    "\n",
    "    for path in paths:\n",
    "        image= cv2.imread(path,cv2.IMREAD_GRAYSCALE)\n",
    "        if image is not None:\n",
    "            images.append(image)\n",
    "        else:\n",
    "            print(f\"Failed to read image at path: {path}\")\n",
    "\n",
    "    return images"
   ]
  },
  {
   "cell_type": "code",
   "execution_count": null,
   "metadata": {},
   "outputs": [],
   "source": []
  }
 ],
 "metadata": {
  "language_info": {
   "name": "python"
  }
 },
 "nbformat": 4,
 "nbformat_minor": 2
}
