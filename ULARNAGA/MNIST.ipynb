{
  "cells": [
    {
      "cell_type": "markdown",
      "metadata": {
        "colab_type": "text",
        "id": "view-in-github"
      },
      "source": [
        "<a href=\"https://colab.research.google.com/github/Aikhusy/Random/blob/main/ULARNAGA/MNIST.ipynb\" target=\"_parent\"><img src=\"https://colab.research.google.com/assets/colab-badge.svg\" alt=\"Open In Colab\"/></a>"
      ]
    },
    {
      "cell_type": "code",
      "execution_count": 1,
      "metadata": {
        "id": "uRofDIIbpwPh"
      },
      "outputs": [],
      "source": [
        "import numpy as np\n",
        "import pandas as pd\n",
        "import matplotlib.pyplot as plt"
      ]
    },
    {
      "cell_type": "code",
      "execution_count": 2,
      "metadata": {
        "colab": {
          "base_uri": "https://localhost:8080/"
        },
        "id": "_J7-dRt6o2Pz",
        "outputId": "a9698721-7cfd-48b8-d1df-f70ddf32bbd2"
      },
      "outputs": [
        {
          "name": "stderr",
          "output_type": "stream",
          "text": [
            "c:\\Program Files\\Python310\\lib\\site-packages\\sklearn\\datasets\\_openml.py:1022: FutureWarning: The default value of `parser` will change from `'liac-arff'` to `'auto'` in 1.4. You can set `parser='auto'` to silence this warning. Therefore, an `ImportError` will be raised from 1.4 if the dataset is dense and pandas is not installed. Note that the pandas parser may return different data types. See the Notes Section in fetch_openml's API doc for details.\n",
            "  warn(\n"
          ]
        },
        {
          "name": "stdout",
          "output_type": "stream",
          "text": [
            "**Author**: Yann LeCun, Corinna Cortes, Christopher J.C. Burges  \n",
            "**Source**: [MNIST Website](http://yann.lecun.com/exdb/mnist/) - Date unknown  \n",
            "**Please cite**:  \n",
            "\n",
            "The MNIST database of handwritten digits with 784 features, raw data available at: http://yann.lecun.com/exdb/mnist/. It can be split in a training set of the first 60,000 examples, and a test set of 10,000 examples  \n",
            "\n",
            "It is a subset of a larger set available from NIST. The digits have been size-normalized and centered in a fixed-size image. It is a good database for people who want to try learning techniques and pattern recognition methods on real-world data while spending minimal efforts on preprocessing and formatting. The original black and white (bilevel) images from NIST were size normalized to fit in a 20x20 pixel box while preserving their aspect ratio. The resulting images contain grey levels as a result of the anti-aliasing technique used by the normalization algorithm. the images were centered in a 28x28 image by computing the center of mass of the pixels, and translating the image so as to position this point at the center of the 28x28 field.  \n",
            "\n",
            "With some classification methods (particularly template-based methods, such as SVM and K-nearest neighbors), the error rate improves when the digits are centered by bounding box rather than center of mass. If you do this kind of pre-processing, you should report it in your publications. The MNIST database was constructed from NIST's NIST originally designated SD-3 as their training set and SD-1 as their test set. However, SD-3 is much cleaner and easier to recognize than SD-1. The reason for this can be found on the fact that SD-3 was collected among Census Bureau employees, while SD-1 was collected among high-school students. Drawing sensible conclusions from learning experiments requires that the result be independent of the choice of training set and test among the complete set of samples. Therefore it was necessary to build a new database by mixing NIST's datasets.  \n",
            "\n",
            "The MNIST training set is composed of 30,000 patterns from SD-3 and 30,000 patterns from SD-1. Our test set was composed of 5,000 patterns from SD-3 and 5,000 patterns from SD-1. The 60,000 pattern training set contained examples from approximately 250 writers. We made sure that the sets of writers of the training set and test set were disjoint. SD-1 contains 58,527 digit images written by 500 different writers. In contrast to SD-3, where blocks of data from each writer appeared in sequence, the data in SD-1 is scrambled. Writer identities for SD-1 is available and we used this information to unscramble the writers. We then split SD-1 in two: characters written by the first 250 writers went into our new training set. The remaining 250 writers were placed in our test set. Thus we had two sets with nearly 30,000 examples each. The new training set was completed with enough examples from SD-3, starting at pattern # 0, to make a full set of 60,000 training patterns. Similarly, the new test set was completed with SD-3 examples starting at pattern # 35,000 to make a full set with 60,000 test patterns. Only a subset of 10,000 test images (5,000 from SD-1 and 5,000 from SD-3) is available on this site. The full 60,000 sample training set is available.\n",
            "\n",
            "Downloaded from openml.org.\n"
          ]
        }
      ],
      "source": [
        "from sklearn.datasets import fetch_openml\n",
        "mnist = fetch_openml('mnist_784')\n",
        "# Baca deskripsi dataset\n",
        "# Tahap ini mungkin diperlukan untuk lebih memahami dataset\n",
        "print(mnist.DESCR)\n"
      ]
    },
    {
      "cell_type": "code",
      "execution_count": 6,
      "metadata": {
        "colab": {
          "base_uri": "https://localhost:8080/"
        },
        "id": "pO5OL0HV1k8w",
        "outputId": "9de8a1ac-7daa-463f-8daf-0ffc3b05731a"
      },
      "outputs": [
        {
          "data": {
            "text/plain": [
              "dict_keys(['data', 'target', 'frame', 'categories', 'feature_names', 'target_names', 'DESCR', 'details', 'url'])"
            ]
          },
          "execution_count": 6,
          "metadata": {},
          "output_type": "execute_result"
        }
      ],
      "source": [
        "mnist.keys()"
      ]
    },
    {
      "cell_type": "markdown",
      "metadata": {
        "id": "rTt_FZSV7FGA"
      },
      "source": [
        "1. **Pastikan jumlah data setiap label angka (0-9). Apakah terdapat data imbalance pada dataset\n",
        "MNIST yang digunakan? Jelaskan jawaban kelompok Anda dan buktikan!**"
      ]
    },
    {
      "cell_type": "code",
      "execution_count": 7,
      "metadata": {
        "id": "6lgxf_1m118H"
      },
      "outputs": [
        {
          "name": "stderr",
          "output_type": "stream",
          "text": [
            "c:\\Program Files\\Python310\\lib\\site-packages\\pandas\\core\\arrays\\categorical.py:528: RuntimeWarning: invalid value encountered in cast\n",
            "  fill_value = lib.item_from_zerodim(np.array(np.nan).astype(dtype))\n"
          ]
        }
      ],
      "source": [
        "label_counts = np.bincount(mnist.target.astype(int))"
      ]
    },
    {
      "cell_type": "code",
      "execution_count": 8,
      "metadata": {
        "colab": {
          "base_uri": "https://localhost:8080/"
        },
        "id": "mQ_yM2RE13uv",
        "outputId": "32b667ae-0416-43e8-ab4a-0d555b0e5483"
      },
      "outputs": [
        {
          "name": "stdout",
          "output_type": "stream",
          "text": [
            "nilai 0 = 6903\n",
            "nilai 1 = 7877\n",
            "nilai 2 = 6990\n",
            "nilai 3 = 7141\n",
            "nilai 4 = 6824\n",
            "nilai 5 = 6313\n",
            "nilai 6 = 6876\n",
            "nilai 7 = 7293\n",
            "nilai 8 = 6825\n",
            "nilai 9 = 6958\n"
          ]
        }
      ],
      "source": [
        "for index, value in enumerate(label_counts):\n",
        "    print(f'nilai {index} = {value}')"
      ]
    },
    {
      "cell_type": "markdown",
      "metadata": {
        "id": "0l7KQ5QJ7PAM"
      },
      "source": [
        "**2. Tampilkan 15 buah citra pertama dari dataset MNIST berserta labelnya. Anda dapat\n",
        "menggunakan referensi dari Job Sheet 03.**"
      ]
    },
    {
      "cell_type": "code",
      "execution_count": 9,
      "metadata": {
        "colab": {
          "base_uri": "https://localhost:8080/",
          "height": 428
        },
        "id": "pt0LJE8x3fd9",
        "outputId": "8259841e-2b8a-4f58-93c4-786de0b834d9"
      },
      "outputs": [
        {
          "data": {
            "image/png": "[encoded data removed]",
            "text/plain": [
              "<Figure size 1080x504 with 15 Axes>"
            ]
          },
          "metadata": {
            "needs_background": "light"
          },
          "output_type": "display_data"
        }
      ],
      "source": [
        "fig, axes = plt.subplots(3, 5, figsize=(15, 7))\n",
        "for i, ax in enumerate(axes.flat):\n",
        "    ax.imshow(mnist.data.iloc[i].values.reshape(28, 28), cmap='gray')\n",
        "    ax.set_title(f\"Label: {mnist.target[i]}\")\n",
        "    ax.axis('off')\n",
        "plt.tight_layout()"
      ]
    },
    {
      "cell_type": "markdown",
      "metadata": {
        "id": "b6m9ljgN7c-D"
      },
      "source": [
        "**3. Lakukan proses ekstraksi fitur pada data MNIST. Pada proses ini, Anda diperbolehkan untuk\n",
        "Langsung menggunakan nilai asli dari citra (nilai asli setiap pixel dari dataset) sebagai\n",
        "fitur.\n",
        "Melakukan ekstraksi fitur lain seperti histogram, PCA, atau yang lainnya. Anda\n",
        "diperbolehkan melakukan ekspolarasi pada proses ini**"
      ]
    },
    {
      "cell_type": "code",
      "execution_count": 10,
      "metadata": {
        "id": "-Diq8q4I36Ec"
      },
      "outputs": [],
      "source": [
        "X=mnist.data.astype('float64')\n",
        "y = mnist.target"
      ]
    },
    {
      "cell_type": "code",
      "execution_count": 11,
      "metadata": {
        "colab": {
          "base_uri": "https://localhost:8080/"
        },
        "id": "E8-naPlV54Ya",
        "outputId": "cc5569f4-53da-4014-a664-fcdfbe366f99"
      },
      "outputs": [
        {
          "name": "stdout",
          "output_type": "stream",
          "text": [
            "0        5\n",
            "1        0\n",
            "2        4\n",
            "3        1\n",
            "4        9\n",
            "        ..\n",
            "69995    2\n",
            "69996    3\n",
            "69997    4\n",
            "69998    5\n",
            "69999    6\n",
            "Name: class, Length: 70000, dtype: category\n",
            "Categories (10, object): ['0', '1', '2', '3', ..., '6', '7', '8', '9']\n"
          ]
        }
      ],
      "source": [
        "print(y)"
      ]
    },
    {
      "cell_type": "code",
      "execution_count": 12,
      "metadata": {
        "id": "BuODNpg66bPg"
      },
      "outputs": [],
      "source": [
        "from sklearn.decomposition import PCA"
      ]
    },
    {
      "cell_type": "code",
      "execution_count": 14,
      "metadata": {
        "id": "XDPq4rBa6uTo"
      },
      "outputs": [],
      "source": [
        "n_components = 50\n",
        "pca = PCA(n_components=n_components)\n",
        "X_pca = pca.fit_transform(X)"
      ]
    },
    {
      "cell_type": "code",
      "execution_count": 15,
      "metadata": {
        "colab": {
          "base_uri": "https://localhost:8080/"
        },
        "id": "2qvjbS0U7kMU",
        "outputId": "5bc90a85-1765-4e09-b35d-3d48a65c116c"
      },
      "outputs": [
        {
          "name": "stdout",
          "output_type": "stream",
          "text": [
            "[[ 122.25525533 -316.23384392  -51.13183086 ...  -92.82779302\n",
            "    55.28326804   97.87992963]\n",
            " [1010.49400346 -289.96362059  576.1207452  ... -162.57810708\n",
            "   138.83785068  261.76343784]\n",
            " [ -58.99594719  393.69744499 -161.99818409 ...   42.56278751\n",
            "  -149.31513965    3.10952356]\n",
            " ...\n",
            " [-271.50701323  590.0785001   341.36886918 ...    7.13447362\n",
            "  -110.38258216  -31.07534268]\n",
            " [-310.22482291 -116.72715081  635.71999693 ...  -15.69271013\n",
            "   -84.36072912 -180.4889733 ]\n",
            " [1058.86212574  -83.39253843  731.34218395 ...  -78.39889374\n",
            "    95.8349178   -52.4469453 ]]\n"
          ]
        }
      ],
      "source": [
        "print(X_pca)"
      ]
    }
  ],
  "metadata": {
    "colab": {
      "authorship_tag": "ABX9TyP4Hxdb6br4THkjzs5HzJ7Q",
      "include_colab_link": true,
      "provenance": []
    },
    "kernelspec": {
      "display_name": "Python 3",
      "name": "python3"
    },
    "language_info": {
      "codemirror_mode": {
        "name": "ipython",
        "version": 3
      },
      "file_extension": ".py",
      "mimetype": "text/x-python",
      "name": "python",
      "nbconvert_exporter": "python",
      "pygments_lexer": "ipython3",
      "version": "3.10.0"
    }
  },
  "nbformat": 4,
  "nbformat_minor": 0
}
