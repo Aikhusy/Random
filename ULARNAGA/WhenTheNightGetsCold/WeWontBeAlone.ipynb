{
 "cells": [
  {
   "cell_type": "markdown",
   "metadata": {},
   "source": [
    "Library"
   ]
  },
  {
   "cell_type": "code",
   "execution_count": 52,
   "metadata": {},
   "outputs": [],
   "source": [
    "import pytesseract\n",
    "import glob\n",
    "from sklearn.cluster import KMeans\n",
    "from PIL import Image\n",
    "import matplotlib.pyplot as plt\n",
    "import numpy as np\n",
    "import cv2\n",
    "import os\n",
    "import re"
   ]
  },
  {
   "cell_type": "code",
   "execution_count": null,
   "metadata": {},
   "outputs": [],
   "source": [
    "def textProcessing(text):\n",
    "    NIK= re.findall(r'\\b\\w*35\\w*\\b', text)\n",
    "    "
   ]
  },
  {
   "cell_type": "code",
   "execution_count": 53,
   "metadata": {},
   "outputs": [],
   "source": [
    "def pathProcessing (path):\n",
    "    image_extensions = ['*.jpg', '*.jpeg', '*.png', '*.gif']  # Add more extensions if needed\n",
    "    image_paths = []\n",
    "\n",
    "    for ext in image_extensions:\n",
    "        image_paths.extend(glob.glob(os.path.join(path, ext)))\n",
    "\n",
    "    return image_paths"
   ]
  },
  {
   "cell_type": "code",
   "execution_count": 54,
   "metadata": {},
   "outputs": [],
   "source": [
    "def gaussianBlur(images):\n",
    "    blurredImages=[]\n",
    "    for image in images:\n",
    "        kernel_size = (5, 5)\n",
    "        sigma_x = 0\n",
    "        blurredImage = cv2.GaussianBlur(image, kernel_size, sigma_x)\n",
    "        blurredImages.append(blurredImage)\n",
    "    \n",
    "    return blurredImages   "
   ]
  },
  {
   "cell_type": "code",
   "execution_count": 55,
   "metadata": {},
   "outputs": [],
   "source": [
    "def readImage (paths):\n",
    "    images=[]\n",
    "\n",
    "    for path in paths:\n",
    "        image= cv2.imread(path,cv2.IMREAD_GRAYSCALE)\n",
    "        if image is not None:\n",
    "            images.append(image)\n",
    "        else:\n",
    "            print(f\"Failed to read image at path: {path}\")\n",
    "\n",
    "    return images"
   ]
  },
  {
   "cell_type": "code",
   "execution_count": 56,
   "metadata": {},
   "outputs": [],
   "source": [
    "def kmeans(images):\n",
    "    newImages=[]\n",
    "    for image in images : \n",
    "        k = 2\n",
    "        newImage = image.reshape((-1, 1))\n",
    "        kmeans = KMeans(n_clusters=k)\n",
    "        kmeans.fit(newImage)\n",
    "        cluster_centers = kmeans.cluster_centers_.astype(np.uint8)\n",
    "        segmented_image = cluster_centers[kmeans.labels_].reshape(image.shape)\n",
    "    newImages.append(segmented_image)\n",
    "    \n",
    "    return segmented_image"
   ]
  },
  {
   "cell_type": "code",
   "execution_count": 57,
   "metadata": {},
   "outputs": [],
   "source": [
    "from PIL import Image\n",
    "import cv2\n",
    "import numpy as np\n",
    "\n",
    "def imageToText(images):\n",
    "    texts = []\n",
    "    for image in images:\n",
    "        # Ubah gambar dari cv2 (numpy array) menjadi gambar PIL\n",
    "        pil_image = Image.fromarray(image)\n",
    "\n",
    "        # Ubah gambar menjadi mode grayscale ('L')\n",
    "        image_for_ocr = pil_image.convert('L')\n",
    "\n",
    "        pytesseract.pytesseract.tesseract_cmd = \"C:\\\\Program Files\\\\Tesseract-OCR\\\\tesseract.exe\"\n",
    "        text = pytesseract.image_to_string(image_for_ocr)\n",
    "        texts.append(text)\n",
    "\n",
    "    return texts"
   ]
  },
  {
   "cell_type": "code",
   "execution_count": 58,
   "metadata": {},
   "outputs": [],
   "source": [
    "# konvolusi pada gambar\n",
    "def convolution2d(images,kernel,stride,padding):\n",
    "    \n",
    "    convolvedImages=[]\n",
    "    for image in images:\n",
    "      image_height, image_width = image.shape\n",
    "      kernel_height, kernel_width = kernel.shape\n",
    "\n",
    "      padded_image = np.zeros((image_height + kernel_height - 1, image_width + kernel_width - 1))\n",
    "      padded_image[kernel_height // padding:image_height + kernel_height // padding, kernel_width // padding:image_width + kernel_width // padding] = image\n",
    "\n",
    "      convolved_image = np.zeros((image_height, image_width))\n",
    "      for i in range(image_height):\n",
    "        for j in range(image_width):\n",
    "          convolved_image[i, j] = np.sum(padded_image[i*stride:i*stride + kernel_height, j*stride:j*stride + kernel_width] * kernel)\n",
    "      convolvedImages.append(convolved_image)\n",
    "\n",
    "    return convolvedImages"
   ]
  },
  {
   "cell_type": "code",
   "execution_count": 59,
   "metadata": {},
   "outputs": [],
   "source": [
    "def showImages(images, num_cols=3):\n",
    "    num_images = len(images)\n",
    "    num_rows = (num_images + num_cols - 1) // num_cols\n",
    "\n",
    "    plt.figure(figsize=(10, 8))  # Atur ukuran figur sesuai kebutuhan\n",
    "\n",
    "    for i, image in enumerate(images, 1):\n",
    "        plt.subplot(num_rows, num_cols, i)\n",
    "        plt.imshow(image, cmap='gray')  # Menggunakan cmap='gray' jika gambar dalam mode grayscale\n",
    "        plt.axis('off')\n",
    "\n",
    "    plt.tight_layout()\n",
    "    plt.show()"
   ]
  },
  {
   "cell_type": "code",
   "execution_count": 60,
   "metadata": {},
   "outputs": [],
   "source": [
    "def main ():\n",
    "    path= 'DataSet'\n",
    "    imagesPath=pathProcessing(path)\n",
    "    imageReady=readImage(imagesPath)\n",
    "    blurredImages=gaussianBlur(imageReady)\n",
    "    kernel = np.array([[0, -1, 0],\n",
    "                      [-1, 5, -1],\n",
    "                      [0, -1, 0]])\n",
    "    convolved_image = convolution2d(blurredImages, kernel, 1, 2)\n",
    "    texts=imageToText(convolved_image)\n",
    "    print (texts[2])\n",
    "    return {\n",
    "        \"images\":convolved_image,\n",
    "        \"text\": texts\n",
    "    }\n",
    "    \n",
    "    "
   ]
  },
  {
   "cell_type": "code",
   "execution_count": 61,
   "metadata": {},
   "outputs": [
    {
     "name": "stdout",
     "output_type": "stream",
     "text": [
      "PROVINS| JAWA TIMUR\n",
      "\n",
      "KABUPATEN PASURUAN\n",
      "NIK > 3514101803030001\n",
      "Nama - AGUNG AFRIZAL DAFFA\n",
      "Tempat/Tgi Lahir : PASURUAN, 18-03-2003\n",
      "Jenis kelamin - LAKI-LAKI Gol. Darah ;:-\n",
      "Alamat ; DUSUN COWEK\n",
      "\n",
      "RT/RW : 013/006\n",
      "Kel/Desa : JATIARJO\n",
      "Kecamatan : PRIGEN\n",
      "\n",
      "Agama - ISLAM\n",
      "Status Perkawinan: BELUM KAWIN\n",
      "Pekerjaan : PELAJAR/MAHASISWA\n",
      "\n",
      "Kewarganegaraan : WNI\n",
      "Berlaku Hingga =: SEUMUR HIDUP\n",
      "\n",
      "PASURUAN\n",
      "13-07-2020\n",
      "\n",
      "\\\n",
      "\n",
      "\n"
     ]
    },
    {
     "data": {
      "text/plain": [
       "{'images': [array([[703., 464., 466., ..., 462., 462., 693.],\n",
       "         [467., 236., 231., ..., 232., 231., 461.],\n",
       "         [472., 232., 236., ..., 229., 232., 467.],\n",
       "         ...,\n",
       "         [474., 236., 238., ..., 235., 234., 469.],\n",
       "         [472., 240., 238., ..., 238., 237., 473.],\n",
       "         [715., 475., 480., ..., 472., 472., 708.]]),\n",
       "  array([[298., 200., 198., ..., 451., 450., 675.],\n",
       "         [196.,  99.,  98., ..., 227., 226., 451.],\n",
       "         [194.,  98.,  97., ..., 224., 224., 448.],\n",
       "         ...,\n",
       "         [334., 167., 167., ..., 181., 183., 363.],\n",
       "         [334., 167., 167., ..., 181., 182., 368.],\n",
       "         [501., 334., 334., ..., 362., 364., 550.]]),\n",
       "  array([[762., 508., 508., ..., 217., 220., 327.],\n",
       "         [508., 254., 255., ..., 108., 108., 220.],\n",
       "         [508., 256., 250., ..., 105., 109., 217.],\n",
       "         ...,\n",
       "         [510., 255., 255., ...,  87.,  88., 180.],\n",
       "         [510., 255., 255., ...,  91.,  88., 181.],\n",
       "         [765., 510., 510., ..., 178., 177., 271.]])],\n",
       " 'text': ['PROVINSI JAWA TIMUR\\n\\nKABUPATEN BONDOWOSO\\nNIK = 351109240?7030001\\nNama = AGUNG MALIK AL QINDY\\nTempat/TgiLahir : BONDOWOSO, 24-07-2003\\n\\\\ Jeniskelamin —_: LAKI-LAKI Gol. Darah =-\\nAlamat > KAPURAN\\n\\nRT/RW +001/001\\nKel/Desa = KAPURAN\\nKecamatan = WONOSARI\\n\\nAgama ISLAM\\nStatus Perkawinan BELUM KAWIN z\\nPekerjaan : PELAJAR/MAHASISWA BONDOWOSO\\n\\nKewarganegaraan WNI\\n\\nBerlakuHingga. - SEUMURHIDUP 27-87-2020\\n\\nfife\\n\\n',\n",
       "  'PROVINSI JAWA TIMUR\\n\\nKABUPATEN MOJOKERTO\\nNIK + 3516112404030001\\nNama = AFDHOL AFFANUDDIN\\n\\nTompav/Tg Lahr © MOJOKERTO, 24-08-2003\\nGot\\n\\nKecamatan PURI\\nSs catieal 2 ISLAM\\n‘Status Perkawinan: BELUM KAWIN\\nPohorjaan 3 gg aa REKFRIA MOJOKERTO\\n31 00-2070\\n',\n",
       "  'PROVINS| JAWA TIMUR\\n\\nKABUPATEN PASURUAN\\nNIK > 3514101803030001\\nNama - AGUNG AFRIZAL DAFFA\\nTempat/Tgi Lahir : PASURUAN, 18-03-2003\\nJenis kelamin - LAKI-LAKI Gol. Darah ;:-\\nAlamat ; DUSUN COWEK\\n\\nRT/RW : 013/006\\nKel/Desa : JATIARJO\\nKecamatan : PRIGEN\\n\\nAgama - ISLAM\\nStatus Perkawinan: BELUM KAWIN\\nPekerjaan : PELAJAR/MAHASISWA\\n\\nKewarganegaraan : WNI\\nBerlaku Hingga =: SEUMUR HIDUP\\n\\nPASURUAN\\n13-07-2020\\n\\n\\\\\\n\\n']}"
      ]
     },
     "execution_count": 61,
     "metadata": {},
     "output_type": "execute_result"
    }
   ],
   "source": [
    "main()"
   ]
  }
 ],
 "metadata": {
  "kernelspec": {
   "display_name": "Python 3",
   "language": "python",
   "name": "python3"
  },
  "language_info": {
   "codemirror_mode": {
    "name": "ipython",
    "version": 3
   },
   "file_extension": ".py",
   "mimetype": "text/x-python",
   "name": "python",
   "nbconvert_exporter": "python",
   "pygments_lexer": "ipython3",
   "version": "3.12.0"
  }
 },
 "nbformat": 4,
 "nbformat_minor": 2
}
