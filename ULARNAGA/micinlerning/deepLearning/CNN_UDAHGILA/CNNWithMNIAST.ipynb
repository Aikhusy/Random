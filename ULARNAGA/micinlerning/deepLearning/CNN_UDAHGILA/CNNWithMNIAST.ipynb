{
 "cells": [
  {
   "cell_type": "code",
   "execution_count": 1,
   "metadata": {},
   "outputs": [],
   "source": [
    "from keras.datasets import mnist\n",
    "\n",
    "(train_images, train_labels), (test_images, test_labels) = mnist.load_data()"
   ]
  },
  {
   "cell_type": "code",
   "execution_count": 2,
   "metadata": {},
   "outputs": [],
   "source": [
    "import tensorflow as tf"
   ]
  },
  {
   "cell_type": "code",
   "execution_count": 3,
   "metadata": {},
   "outputs": [],
   "source": [
    "cnn = tf.keras.models.Sequential()"
   ]
  },
  {
   "cell_type": "code",
   "execution_count": 6,
   "metadata": {},
   "outputs": [],
   "source": [
    "from keras.models import Sequential\n",
    "from keras.layers import Conv2D, MaxPooling2D, Flatten, Dense\n",
    "from keras.datasets import mnist\n",
    "from keras.utils import to_categorical\n",
    "\n",
    "\n",
    "(train_images, train_labels), (test_images, test_labels) = mnist.load_data()\n",
    "\n",
    "\n",
    "train_images = train_images.astype('float32') / 255\n",
    "test_images = test_images.astype('float32') / 255\n",
    "\n",
    "\n",
    "train_images = train_images.reshape((train_images.shape[0], 28, 28, 1))\n",
    "test_images = test_images.reshape((test_images.shape[0], 28, 28, 1))\n",
    "\n",
    "\n",
    "train_labels = to_categorical(train_labels)\n",
    "test_labels = to_categorical(test_labels)\n",
    "\n",
    "# Build the CNN model\n",
    "model = Sequential()\n",
    "model.add(Conv2D(32, (3, 3), activation='relu', input_shape=(28, 28, 1)))\n",
    "model.add(MaxPooling2D((2, 2)))\n",
    "model.add(Conv2D(64, (3, 3), activation='relu'))\n",
    "model.add(MaxPooling2D((2, 2)))\n",
    "model.add(Conv2D(64, (3, 3), activation='relu'))\n",
    "model.add(Flatten())\n",
    "model.add(Dense(64, activation='relu'))\n",
    "model.add(Dense(10, activation='softmax'))\n",
    "\n",
    "\n",
    "model.compile(optimizer='adam', loss='categorical_crossentropy', metrics=['accuracy'])\n",
    "\n",
    "\n"
   ]
  },
  {
   "cell_type": "code",
   "execution_count": 7,
   "metadata": {},
   "outputs": [
    {
     "name": "stdout",
     "output_type": "stream",
     "text": [
      "Epoch 1/25\n",
      "1875/1875 [==============================] - 35s 18ms/step - loss: 0.1443 - accuracy: 0.9556 - val_loss: 0.0649 - val_accuracy: 0.9766\n",
      "Epoch 2/25\n",
      "   6/1875 [..............................] - ETA: 41s - loss: 0.0683 - accuracy: 0.9792"
     ]
    },
    {
     "name": "stderr",
     "output_type": "stream",
     "text": [
      "C:\\Users\\HAPE\\AppData\\Roaming\\Python\\Python310\\site-packages\\keras\\src\\engine\\training.py:3079: UserWarning: You are saving your model as an HDF5 file via `model.save()`. This file format is considered legacy. We recommend using instead the native Keras format, e.g. `model.save('my_model.keras')`.\n",
      "  saving_api.save_model(\n"
     ]
    },
    {
     "name": "stdout",
     "output_type": "stream",
     "text": [
      "1875/1875 [==============================] - 33s 18ms/step - loss: 0.0472 - accuracy: 0.9858 - val_loss: 0.0343 - val_accuracy: 0.9889\n",
      "Epoch 3/25\n",
      "1875/1875 [==============================] - 36s 19ms/step - loss: 0.0323 - accuracy: 0.9897 - val_loss: 0.0375 - val_accuracy: 0.9888\n",
      "Epoch 4/25\n",
      "1875/1875 [==============================] - 31s 17ms/step - loss: 0.0246 - accuracy: 0.9924 - val_loss: 0.0270 - val_accuracy: 0.9912\n",
      "Epoch 5/25\n",
      "1875/1875 [==============================] - 33s 17ms/step - loss: 0.0201 - accuracy: 0.9937 - val_loss: 0.0290 - val_accuracy: 0.9915\n",
      "Epoch 6/25\n",
      "1875/1875 [==============================] - 31s 17ms/step - loss: 0.0152 - accuracy: 0.9952 - val_loss: 0.0300 - val_accuracy: 0.9918\n",
      "Epoch 7/25\n",
      "1875/1875 [==============================] - 32s 17ms/step - loss: 0.0133 - accuracy: 0.9956 - val_loss: 0.0391 - val_accuracy: 0.9907\n",
      "Epoch 8/25\n",
      "1875/1875 [==============================] - 32s 17ms/step - loss: 0.0111 - accuracy: 0.9962 - val_loss: 0.0416 - val_accuracy: 0.9911\n",
      "Epoch 9/25\n",
      "1875/1875 [==============================] - 35s 18ms/step - loss: 0.0106 - accuracy: 0.9967 - val_loss: 0.0318 - val_accuracy: 0.9915\n",
      "Epoch 10/25\n",
      "1875/1875 [==============================] - 32s 17ms/step - loss: 0.0089 - accuracy: 0.9969 - val_loss: 0.0458 - val_accuracy: 0.9895\n",
      "Epoch 11/25\n",
      "1875/1875 [==============================] - 32s 17ms/step - loss: 0.0073 - accuracy: 0.9975 - val_loss: 0.0462 - val_accuracy: 0.9903\n",
      "Epoch 12/25\n",
      "1875/1875 [==============================] - 33s 18ms/step - loss: 0.0073 - accuracy: 0.9977 - val_loss: 0.0329 - val_accuracy: 0.9921\n",
      "Epoch 13/25\n",
      "1875/1875 [==============================] - 30s 16ms/step - loss: 0.0063 - accuracy: 0.9979 - val_loss: 0.0337 - val_accuracy: 0.9931\n",
      "Epoch 14/25\n",
      "1875/1875 [==============================] - 33s 18ms/step - loss: 0.0071 - accuracy: 0.9977 - val_loss: 0.0433 - val_accuracy: 0.9915\n",
      "Epoch 15/25\n",
      "1875/1875 [==============================] - 36s 19ms/step - loss: 0.0060 - accuracy: 0.9983 - val_loss: 0.0439 - val_accuracy: 0.9918\n",
      "Epoch 16/25\n",
      "1875/1875 [==============================] - 43s 23ms/step - loss: 0.0054 - accuracy: 0.9983 - val_loss: 0.0484 - val_accuracy: 0.9901\n",
      "Epoch 17/25\n",
      "1875/1875 [==============================] - 42s 22ms/step - loss: 0.0051 - accuracy: 0.9984 - val_loss: 0.0448 - val_accuracy: 0.9908\n",
      "Epoch 18/25\n",
      "1875/1875 [==============================] - 49s 26ms/step - loss: 0.0053 - accuracy: 0.9985 - val_loss: 0.0461 - val_accuracy: 0.9914\n",
      "Epoch 19/25\n",
      "1875/1875 [==============================] - 56s 30ms/step - loss: 0.0055 - accuracy: 0.9982 - val_loss: 0.0482 - val_accuracy: 0.9918\n",
      "Epoch 20/25\n",
      "1875/1875 [==============================] - 44s 23ms/step - loss: 0.0050 - accuracy: 0.9985 - val_loss: 0.0488 - val_accuracy: 0.9905\n",
      "Epoch 21/25\n",
      "1875/1875 [==============================] - 46s 24ms/step - loss: 0.0042 - accuracy: 0.9989 - val_loss: 0.0599 - val_accuracy: 0.9908\n",
      "Epoch 22/25\n",
      "1875/1875 [==============================] - 45s 24ms/step - loss: 0.0047 - accuracy: 0.9984 - val_loss: 0.0660 - val_accuracy: 0.9877\n",
      "Epoch 23/25\n",
      "1875/1875 [==============================] - 46s 25ms/step - loss: 0.0038 - accuracy: 0.9988 - val_loss: 0.0685 - val_accuracy: 0.9903\n",
      "Epoch 24/25\n",
      "1875/1875 [==============================] - 53s 28ms/step - loss: 0.0064 - accuracy: 0.9981 - val_loss: 0.0462 - val_accuracy: 0.9929\n",
      "Epoch 25/25\n",
      "1875/1875 [==============================] - 48s 25ms/step - loss: 0.0034 - accuracy: 0.9989 - val_loss: 0.0674 - val_accuracy: 0.9912\n",
      "313/313 [==============================] - 4s 10ms/step - loss: 0.0337 - accuracy: 0.9931\n",
      "Test Accuracy of the Best Model: 99.31%\n"
     ]
    }
   ],
   "source": [
    "from keras.callbacks import ModelCheckpoint\n",
    "\n",
    "\n",
    "\n",
    "checkpoint = ModelCheckpoint('best_model.h5', monitor='val_accuracy', save_best_only=True)\n",
    "\n",
    "\n",
    "history = model.fit(x=train_images, y=train_labels, validation_data=(test_images, test_labels), epochs=25, callbacks=[checkpoint])\n",
    "\n",
    "# ...\n",
    "\n",
    "from keras.models import load_model\n",
    "\n",
    "best_model = load_model('best_model.h5')\n",
    "\n",
    "test_loss, test_accuracy = best_model.evaluate(test_images, test_labels)\n",
    "print(f'Test Accuracy of the Best Model: {test_accuracy * 100:.2f}%')\n"
   ]
  }
 ],
 "metadata": {
  "kernelspec": {
   "display_name": "Python 3",
   "language": "python",
   "name": "python3"
  },
  "language_info": {
   "codemirror_mode": {
    "name": "ipython",
    "version": 3
   },
   "file_extension": ".py",
   "mimetype": "text/x-python",
   "name": "python",
   "nbconvert_exporter": "python",
   "pygments_lexer": "ipython3",
   "version": "3.10.0"
  }
 },
 "nbformat": 4,
 "nbformat_minor": 2
}
