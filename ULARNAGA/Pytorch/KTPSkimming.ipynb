{
 "cells": [
  {
   "cell_type": "markdown",
   "metadata": {},
   "source": [
    "Library"
   ]
  },
  {
   "cell_type": "code",
   "execution_count": null,
   "metadata": {},
   "outputs": [],
   "source": [
    "import os\n",
    "import glob\n",
    "import cv2\n",
    "import numpy as np"
   ]
  },
  {
   "cell_type": "markdown",
   "metadata": {},
   "source": [
    "import file"
   ]
  },
  {
   "cell_type": "code",
   "execution_count": null,
   "metadata": {},
   "outputs": [],
   "source": [
    "def pathProcessing (path):\n",
    "    image_extensions = ['*.jpg', '*.jpeg', '*.png', '*.gif']  # Add more extensions if needed\n",
    "    image_paths = []\n",
    "\n",
    "    for ext in image_extensions:\n",
    "        image_paths.extend(glob.glob(os.path.join(path, ext)))\n",
    "\n",
    "    return image_paths"
   ]
  },
  {
   "cell_type": "code",
   "execution_count": null,
   "metadata": {},
   "outputs": [],
   "source": [
    "def readImage (paths):\n",
    "    images=[]\n",
    "\n",
    "    for path in paths:\n",
    "        image= cv2.imread(path)\n",
    "        if image is not None:\n",
    "            images.append(image)\n",
    "        else:\n",
    "            print(f\"Failed to read image at path: {path}\")\n",
    "\n",
    "    return images"
   ]
  },
  {
   "cell_type": "markdown",
   "metadata": {},
   "source": [
    "PreProcessing"
   ]
  },
  {
   "cell_type": "code",
   "execution_count": null,
   "metadata": {},
   "outputs": [],
   "source": [
    "def gaussianBlur(images):\n",
    "    blurredImages=[]\n",
    "    for image in images:\n",
    "        kernel_size = (5, 5)\n",
    "        sigma_x = 0\n",
    "        blurredImage = cv2.GaussianBlur(image, kernel_size, sigma_x)\n",
    "        blurredImages.append(blurredImage)\n",
    "    \n",
    "    return blurredImages       "
   ]
  },
  {
   "cell_type": "code",
   "execution_count": null,
   "metadata": {},
   "outputs": [],
   "source": [
    "def histogramEqualizing(images):\n",
    "    equalizedImages=[]\n",
    "    for image in images:\n",
    "        equalizedImage = cv2.equalizeHist(image)\n",
    "        equalizedImages.append(equalizedImage)\n",
    "    \n",
    "    return equalizedImages"
   ]
  },
  {
   "cell_type": "code",
   "execution_count": null,
   "metadata": {},
   "outputs": [],
   "source": [
    "def contourDetect(images):\n",
    "    cleanImages=[]\n",
    "    for image in images:\n",
    "        _, thresh = cv2.threshold(image, 150, 255, cv2.THRESH_BINARY)\n",
    "\n",
    "        # Find contours\n",
    "        contours, _ = cv2.findContours(thresh, cv2.RETR_EXTERNAL, cv2.CHAIN_APPROX_SIMPLE)\n",
    "\n",
    "        # Choose the contour with the largest area\n",
    "        largest_contour = max(contours, key=cv2.contourArea)\n",
    "\n",
    "        # Create a mask to extract the necessary part\n",
    "        mask = np.zeros_like(image)\n",
    "        cv2.drawContours(mask, [largest_contour], -1, (255), thickness=cv2.FILLED)\n",
    "\n",
    "        result = cv2.bitwise_and(image, image, mask=mask)\n",
    "\n",
    "        cleanImages.append(result)\n",
    "\n",
    "    return cleanImages"
   ]
  },
  {
   "cell_type": "code",
   "execution_count": null,
   "metadata": {},
   "outputs": [],
   "source": []
  },
  {
   "cell_type": "markdown",
   "metadata": {},
   "source": [
    "K mean Cluster"
   ]
  },
  {
   "cell_type": "markdown",
   "metadata": {},
   "source": [
    "Tracing"
   ]
  },
  {
   "cell_type": "markdown",
   "metadata": {},
   "source": [
    "Result"
   ]
  }
 ],
 "metadata": {
  "kernelspec": {
   "display_name": "Python 3",
   "language": "python",
   "name": "python3"
  },
  "language_info": {
   "name": "python",
   "version": "3.10.0"
  }
 },
 "nbformat": 4,
 "nbformat_minor": 2
}
